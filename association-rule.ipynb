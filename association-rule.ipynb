{
 "cells": [
  {
   "cell_type": "code",
   "execution_count": 20,
   "metadata": {},
   "outputs": [],
   "source": [
    "import pandas as pd\n",
    "import seaborn as sns\n",
    "from sklearn.preprocessing import MultiLabelBinarizer as mlb\n",
    "from mlxtend.preprocessing import TransactionEncoder\n",
    "from mlxtend.frequent_patterns import apriori, association_rules"
   ]
  },
  {
   "cell_type": "code",
   "execution_count": 2,
   "metadata": {},
   "outputs": [
    {
     "name": "stderr",
     "output_type": "stream",
     "text": [
      "C:\\Users\\User\\AppData\\Local\\Temp\\ipykernel_19896\\1236254982.py:1: DtypeWarning: Columns (1,2,9,10,12,13,14,15,16,17,19,20,21,22,23,24,25,26,27,31,32) have mixed types. Specify dtype option on import or set low_memory=False.\n",
      "  data = pd.read_csv(\"../latestdata.csv\")\n"
     ]
    }
   ],
   "source": [
    "data = pd.read_csv(\"../latestdata.csv\")\n",
    "\n",
    "needed_column = [\n",
    "    \"age\",\n",
    "    \"sex\",\n",
    "    \"city\",\n",
    "    \"province\",\n",
    "    \"country\",\n",
    "    \"latitude\",\n",
    "    \"longitude\",\n",
    "    \"symptoms\",\n",
    "    \"date_confirmation\",\n",
    "    \"chronic_disease_binary\",\n",
    "]\n",
    "df = data[needed_column]"
   ]
  },
  {
   "cell_type": "code",
   "execution_count": 3,
   "metadata": {},
   "outputs": [
    {
     "name": "stdout",
     "output_type": "stream",
     "text": [
      "          age     sex            city          province    country   latitude  \\\n",
      "0         NaN    male        Shek Lei         Hong Kong      China  22.365019   \n",
      "1          78    male      Vo Euganeo            Veneto      Italy  45.297748   \n",
      "2          61  female             NaN               NaN  Singapore   1.353460   \n",
      "3         NaN     NaN  Zhengzhou City             Henan      China  34.629310   \n",
      "4         NaN     NaN  Pingxiang City           Jiangxi      China  27.513560   \n",
      "...       ...     ...             ...               ...        ...        ...   \n",
      "2676306  52.0  female        Calleria  Coronel Portillo       Peru  -8.378190   \n",
      "2676307  52.0  female    Pueblo Libre              Lima       Peru -12.076530   \n",
      "2676308  52.0  female           Comas              Lima       Peru -11.932980   \n",
      "2676309  52.0    male          Callao            Callao       Peru -12.000740   \n",
      "2676310  52.0    male      Los Olivos              Lima       Peru -11.976260   \n",
      "\n",
      "          longitude symptoms date_confirmation  chronic_disease_binary  \n",
      "0        114.133808      NaN        14.02.2020                   False  \n",
      "1         11.658382      NaN        21.02.2020                   False  \n",
      "2        103.815100      NaN        14.02.2020                   False  \n",
      "3        113.468000      NaN        26.01.2020                   False  \n",
      "4        113.902900      NaN        14.02.2020                   False  \n",
      "...             ...      ...               ...                     ...  \n",
      "2676306  -74.539700      NaN        17.05.2020                   False  \n",
      "2676307  -77.067350      NaN        17.05.2020                   False  \n",
      "2676308  -77.040850      NaN        17.05.2020                   False  \n",
      "2676309  -77.118240      NaN        17.05.2020                   False  \n",
      "2676310  -77.075030      NaN        17.05.2020                   False  \n",
      "\n",
      "[2676311 rows x 10 columns]\n"
     ]
    }
   ],
   "source": [
    "print(df)"
   ]
  },
  {
   "cell_type": "code",
   "execution_count": 4,
   "metadata": {},
   "outputs": [
    {
     "name": "stdout",
     "output_type": "stream",
     "text": [
      "\n",
      "Null Value count\n",
      "age = 475\n",
      "sex = 456\n",
      "city = 734\n",
      "province = 108\n",
      "country = 30\n",
      "latitude = 0\n",
      "longitude = 0\n",
      "symptoms = 0\n",
      "date_confirmation = 38\n",
      "chronic_disease_binary = 0\n"
     ]
    }
   ],
   "source": [
    "# Remove Symptoms Missing Information\n",
    "df = df.dropna(subset=['symptoms'])\n",
    "print(\"\\nNull Value count\")\n",
    "for col in df:\n",
    "    print(\"{} = {}\".format(col, df[col].isnull().sum()))"
   ]
  },
  {
   "cell_type": "code",
   "execution_count": 6,
   "metadata": {},
   "outputs": [],
   "source": [
    "# Remove Special Expression\n",
    "df['symptoms'] = df['symptoms'].str.replace(\"Â\", \"\").str.replace(\"°C\", \"\").str.replace(\"°F\", \"\").str.strip()"
   ]
  },
  {
   "cell_type": "code",
   "execution_count": 8,
   "metadata": {},
   "outputs": [
    {
     "name": "stdout",
     "output_type": "stream",
     "text": [
      "\n",
      "Null Value count\n",
      "age = 0\n",
      "sex = 0\n",
      "city = 0\n",
      "province = 0\n",
      "country = 0\n",
      "latitude = 0\n",
      "longitude = 0\n",
      "symptoms = 0\n",
      "date_confirmation = 0\n",
      "chronic_disease_binary = 0\n"
     ]
    }
   ],
   "source": [
    "# Remove Missing Rows in other variables\n",
    "\n",
    "df = df.dropna()\n",
    "print(\"\\nNull Value count\")\n",
    "for col in df:\n",
    "    print(\"{} = {}\".format(col, df[col].isnull().sum()))"
   ]
  },
  {
   "cell_type": "code",
   "execution_count": 9,
   "metadata": {},
   "outputs": [
    {
     "name": "stdout",
     "output_type": "stream",
     "text": [
      "          age     sex              city             province        country  \\\n",
      "476        60    male          Yokohama  Kanagawa Prefecture          Japan   \n",
      "756     20-29    male    Haneda Airport                Tokyo          Japan   \n",
      "777     50-59    male         Yuasa-cho  Wakayama Prefecture          Japan   \n",
      "778     50-59  female         Yuasa-cho  Wakayama Prefecture          Japan   \n",
      "781     60-69    male         Yuasa-cho  Wakayama Prefecture          Japan   \n",
      "...       ...     ...               ...                  ...            ...   \n",
      "658595  50-59  female              Ajax              Ontario         Canada   \n",
      "658596  60-69    male              Ajax              Ontario         Canada   \n",
      "672418     35    male  Snohomish County           Washington  United States   \n",
      "672428  60-69    male           Toronto              Ontario         Canada   \n",
      "674650     39  female     New York City             New York  United States   \n",
      "\n",
      "         latitude   longitude                   symptoms date_confirmation  \\\n",
      "476     35.450850  139.665100    fever, severe pneumonia        18.02.2020   \n",
      "756     35.553333  139.781111  cough, fever, sore throat        08.02.2020   \n",
      "777     34.035133  135.149891             fever (38 ° C)        15.02.2020   \n",
      "778     34.035133  135.149891    37.1 ° C, mild coughing        15.02.2020   \n",
      "781     34.035133  135.149891                      cough        15.02.2020   \n",
      "...           ...         ...                        ...               ...   \n",
      "658595  43.858330  -79.036400  cough, body aches, chills        29.02.2020   \n",
      "658596  43.858330  -79.036400                      cough        29.02.2020   \n",
      "672418  48.048180 -121.696000       cough, fever, nausea        20.01.2020   \n",
      "672428  43.725290  -79.387000                      cough        01.03.2020   \n",
      "674650  40.661000  -73.944000                       mild        02.03.2020   \n",
      "\n",
      "        chronic_disease_binary  \n",
      "476                      False  \n",
      "756                      False  \n",
      "777                      False  \n",
      "778                      False  \n",
      "781                      False  \n",
      "...                        ...  \n",
      "658595                   False  \n",
      "658596                   False  \n",
      "672418                    True  \n",
      "672428                   False  \n",
      "674650                   False  \n",
      "\n",
      "[1140 rows x 10 columns]\n"
     ]
    }
   ],
   "source": [
    "print(df)"
   ]
  },
  {
   "cell_type": "code",
   "execution_count": 21,
   "metadata": {},
   "outputs": [],
   "source": [
    "# Splitting comma and convert to list\n",
    "df['symptoms'] = df['symptoms'].apply(lambda x: x.split(',') if isinstance(x, str) else [])"
   ]
  },
  {
   "cell_type": "code",
   "execution_count": 22,
   "metadata": {},
   "outputs": [],
   "source": [
    "# MultiLabelBinarizer to one-hot encode the symptoms\n",
    "symptom_dummies = mlb.fit_transform(df['symptoms'])"
   ]
  },
  {
   "cell_type": "code",
   "execution_count": 23,
   "metadata": {},
   "outputs": [],
   "source": [
    "# Create Dataframe with one-hot encoded and create transaction structure\n",
    "symptom_df = pd.DataFrame(symptom_dummies, columns=mlb.classes_)\n",
    "\n",
    "transaction_data = symptom_df.groupby(df.index).sum()"
   ]
  },
  {
   "cell_type": "code",
   "execution_count": 25,
   "metadata": {},
   "outputs": [
    {
     "name": "stderr",
     "output_type": "stream",
     "text": [
      "c:\\Python311\\Lib\\site-packages\\mlxtend\\frequent_patterns\\fpcommon.py:109: DeprecationWarning: DataFrames with non-bool types result in worse computationalperformance and their support might be discontinued in the future.Please use a DataFrame with bool type\n",
      "  warnings.warn(\n"
     ]
    }
   ],
   "source": [
    "frequent_itemsets = apriori(transaction_data, min_support=0.05, use_colnames=True)\n",
    "\n",
    "rules = association_rules(frequent_itemsets, metric=\"confidence\", min_threshold=0.7)"
   ]
  },
  {
   "cell_type": "code",
   "execution_count": 27,
   "metadata": {},
   "outputs": [
    {
     "name": "stdout",
     "output_type": "stream",
     "text": [
      "Frequent Itemsets:\n",
      "    support         itemsets\n",
      "0  0.078070         ( cough)\n",
      "1  0.163158         ( fever)\n",
      "2  0.188596          (cough)\n",
      "3  0.305263          (fever)\n",
      "4  0.118421  (cough,  fever)\n",
      "\n",
      "Association Rules:\n",
      "  antecedents consequents  antecedent support  consequent support   support  \\\n",
      "0    ( fever)     (cough)            0.163158            0.188596  0.118421   \n",
      "\n",
      "   confidence      lift  leverage  conviction  zhangs_metric  \n",
      "0    0.725806  3.848462   0.08765    2.959236       0.884463  \n"
     ]
    }
   ],
   "source": [
    "print(\"Frequent Itemsets:\")\n",
    "print(frequent_itemsets)\n",
    "print(\"\\nAssociation Rules:\")\n",
    "print(rules)"
   ]
  }
 ],
 "metadata": {
  "kernelspec": {
   "display_name": "Python 3",
   "language": "python",
   "name": "python3"
  },
  "language_info": {
   "codemirror_mode": {
    "name": "ipython",
    "version": 3
   },
   "file_extension": ".py",
   "mimetype": "text/x-python",
   "name": "python",
   "nbconvert_exporter": "python",
   "pygments_lexer": "ipython3",
   "version": "3.11.2"
  }
 },
 "nbformat": 4,
 "nbformat_minor": 2
}
